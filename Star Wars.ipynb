{
 "cells": [
  {
   "cell_type": "code",
   "execution_count": 1,
   "metadata": {},
   "outputs": [],
   "source": [
    "import requests\n",
    "import matplotlib.pyplot as plt\n",
    "import pandas as pd\n",
    "import numpy as np\n",
    "import gmaps\n",
    "import os\n",
    "import scipy.stats as stats\n",
    "from scipy.stats import linregress\n",
    "from IPython.display import Image"
   ]
  },
  {
   "cell_type": "code",
   "execution_count": 2,
   "metadata": {
    "scrolled": true
   },
   "outputs": [],
   "source": [
    "script = pd.read_csv('sw4.csv')\n",
    "new_script = script[['character', 'dialogue']]\n",
    "\n",
    "script_episdoe5 = pd.read_csv('SW5.csv')\n",
    "new_script_episode5 = script_episdoe5[['character', 'dialogue']]\n",
    "\n",
    "script_episode6 = pd.read_csv('sw6.csv')\n",
    "new_script_episode6 = script_episode6[['character', 'dialogue']]"
   ]
  },
  {
   "cell_type": "code",
   "execution_count": 3,
   "metadata": {},
   "outputs": [],
   "source": [
    "characters = new_script['character'].unique()"
   ]
  },
  {
   "cell_type": "code",
   "execution_count": 4,
   "metadata": {},
   "outputs": [],
   "source": [
    "#pd.Series(np.concatenate([x.split() for x in new_script.dialogue])).value_counts()"
   ]
  },
  {
   "cell_type": "code",
   "execution_count": 5,
   "metadata": {
    "scrolled": true
   },
   "outputs": [
    {
     "data": {
      "text/html": [
       "<div>\n",
       "<style scoped>\n",
       "    .dataframe tbody tr th:only-of-type {\n",
       "        vertical-align: middle;\n",
       "    }\n",
       "\n",
       "    .dataframe tbody tr th {\n",
       "        vertical-align: top;\n",
       "    }\n",
       "\n",
       "    .dataframe thead th {\n",
       "        text-align: right;\n",
       "    }\n",
       "</style>\n",
       "<table border=\"1\" class=\"dataframe\">\n",
       "  <thead>\n",
       "    <tr style=\"text-align: right;\">\n",
       "      <th></th>\n",
       "      <th>Lines</th>\n",
       "    </tr>\n",
       "    <tr>\n",
       "      <th>Character</th>\n",
       "      <th></th>\n",
       "    </tr>\n",
       "  </thead>\n",
       "  <tbody>\n",
       "    <tr>\n",
       "      <th>VADER</th>\n",
       "      <td>43</td>\n",
       "    </tr>\n",
       "  </tbody>\n",
       "</table>\n",
       "</div>"
      ],
      "text/plain": [
       "           Lines\n",
       "Character       \n",
       "VADER         43"
      ]
     },
     "execution_count": 5,
     "metadata": {},
     "output_type": "execute_result"
    }
   ],
   "source": [
    "vader_4 = new_script.loc[new_script['character'] == 'VADER']\n",
    "vader_5= new_script_episode5.loc[new_script_episode5['character'] == 'VADER']\n",
    "vader_6 = new_script_episode6.loc[new_script_episode6['character'] == 'VADER']\n",
    "count_vader_4 = vader_4['character'].value_counts()\n",
    "count_vader_5 = vader_5['character'].value_counts()\n",
    "count_vader_6 = vader_6['character'].value_counts()\n",
    "count_vader_4_df = pd.DataFrame(count_vader_4)\n",
    "count_vader_5_df = pd.DataFrame(count_vader_5)\n",
    "count_vader_6_df = pd.DataFrame(count_vader_6)\n",
    "count_vader_4_df.index.name = 'Character'\n",
    "count_vader_5_df.index.name = 'Character'\n",
    "count_vader_6_df.index.name = 'Character'\n",
    "count_vader_4_df.rename(columns={ \"character\":\"Lines\"})\n",
    "count_vader_5_df.rename(columns={ \"character\":\"Lines\"})\n",
    "count_vader_6_df.rename(columns={ \"character\":\"Lines\"})\n"
   ]
  },
  {
   "cell_type": "code",
   "execution_count": 14,
   "metadata": {},
   "outputs": [
    {
     "data": {
      "text/html": [
       "<div>\n",
       "<style scoped>\n",
       "    .dataframe tbody tr th:only-of-type {\n",
       "        vertical-align: middle;\n",
       "    }\n",
       "\n",
       "    .dataframe tbody tr th {\n",
       "        vertical-align: top;\n",
       "    }\n",
       "\n",
       "    .dataframe thead th {\n",
       "        text-align: right;\n",
       "    }\n",
       "</style>\n",
       "<table border=\"1\" class=\"dataframe\">\n",
       "  <thead>\n",
       "    <tr style=\"text-align: right;\">\n",
       "      <th></th>\n",
       "      <th>character_x</th>\n",
       "      <th>character_y</th>\n",
       "      <th>character</th>\n",
       "    </tr>\n",
       "    <tr>\n",
       "      <th>Character</th>\n",
       "      <th></th>\n",
       "      <th></th>\n",
       "      <th></th>\n",
       "    </tr>\n",
       "  </thead>\n",
       "  <tbody>\n",
       "    <tr>\n",
       "      <th>VADER</th>\n",
       "      <td>41</td>\n",
       "      <td>56</td>\n",
       "      <td>43</td>\n",
       "    </tr>\n",
       "  </tbody>\n",
       "</table>\n",
       "</div>"
      ],
      "text/plain": [
       "           character_x  character_y  character\n",
       "Character                                     \n",
       "VADER               41           56         43"
      ]
     },
     "execution_count": 14,
     "metadata": {},
     "output_type": "execute_result"
    }
   ],
   "source": [
    "merge_df = pd.merge(count_vader_4_df, count_vader_5_df, on=\"Character\", how=\"outer\")\n",
    "final_merge = pd.merge(merge_df, count_vader_6_df, on= \"Character\" , how= \"outer\")\n",
    "final_merge"
   ]
  },
  {
   "cell_type": "code",
   "execution_count": 7,
   "metadata": {
    "scrolled": true
   },
   "outputs": [
    {
     "data": {
      "text/html": [
       "<div>\n",
       "<style scoped>\n",
       "    .dataframe tbody tr th:only-of-type {\n",
       "        vertical-align: middle;\n",
       "    }\n",
       "\n",
       "    .dataframe tbody tr th {\n",
       "        vertical-align: top;\n",
       "    }\n",
       "\n",
       "    .dataframe thead th {\n",
       "        text-align: right;\n",
       "    }\n",
       "</style>\n",
       "<table border=\"1\" class=\"dataframe\">\n",
       "  <thead>\n",
       "    <tr style=\"text-align: right;\">\n",
       "      <th></th>\n",
       "      <th>character</th>\n",
       "      <th>dialogue</th>\n",
       "    </tr>\n",
       "  </thead>\n",
       "  <tbody>\n",
       "    <tr>\n",
       "      <th>16</th>\n",
       "      <td>TROOPER</td>\n",
       "      <td>She'll be all right. Inform Lord Vader we have...</td>\n",
       "    </tr>\n",
       "    <tr>\n",
       "      <th>41</th>\n",
       "      <td>LEIA</td>\n",
       "      <td>Lord Vader, I should have known.  Only you cou...</td>\n",
       "    </tr>\n",
       "    <tr>\n",
       "      <th>49</th>\n",
       "      <td>SECOND OFFICER</td>\n",
       "      <td>Lord Vader, the battle station plans are not a...</td>\n",
       "    </tr>\n",
       "    <tr>\n",
       "      <th>263</th>\n",
       "      <td>BEN</td>\n",
       "      <td>A young Jedi named Darth Vader, who was a pupi...</td>\n",
       "    </tr>\n",
       "    <tr>\n",
       "      <th>289</th>\n",
       "      <td>MOTTI</td>\n",
       "      <td>Don't try to frighten us with your sorcerer's ...</td>\n",
       "    </tr>\n",
       "    <tr>\n",
       "      <th>291</th>\n",
       "      <td>TARKIN</td>\n",
       "      <td>Enough of this!  Vader, release him!</td>\n",
       "    </tr>\n",
       "    <tr>\n",
       "      <th>293</th>\n",
       "      <td>TARKIN</td>\n",
       "      <td>This bickering is pointless.  Lord Vader will ...</td>\n",
       "    </tr>\n",
       "    <tr>\n",
       "      <th>423</th>\n",
       "      <td>LEIA</td>\n",
       "      <td>Governor Tarkin, I should have expected to fin...</td>\n",
       "    </tr>\n",
       "    <tr>\n",
       "      <th>434</th>\n",
       "      <td>TARKIN</td>\n",
       "      <td>There.  You see Lord Vader, she can be reasona...</td>\n",
       "    </tr>\n",
       "    <tr>\n",
       "      <th>779</th>\n",
       "      <td>TARKIN</td>\n",
       "      <td>You're sure the homing beacon is secure aboard...</td>\n",
       "    </tr>\n",
       "    <tr>\n",
       "      <th>867</th>\n",
       "      <td>ASTRO-OFFICER</td>\n",
       "      <td>We count thirty Rebel ships, Lord Vader.  But ...</td>\n",
       "    </tr>\n",
       "  </tbody>\n",
       "</table>\n",
       "</div>"
      ],
      "text/plain": [
       "          character                                           dialogue\n",
       "16          TROOPER  She'll be all right. Inform Lord Vader we have...\n",
       "41             LEIA  Lord Vader, I should have known.  Only you cou...\n",
       "49   SECOND OFFICER  Lord Vader, the battle station plans are not a...\n",
       "263             BEN  A young Jedi named Darth Vader, who was a pupi...\n",
       "289           MOTTI  Don't try to frighten us with your sorcerer's ...\n",
       "291          TARKIN               Enough of this!  Vader, release him!\n",
       "293          TARKIN  This bickering is pointless.  Lord Vader will ...\n",
       "423            LEIA  Governor Tarkin, I should have expected to fin...\n",
       "434          TARKIN  There.  You see Lord Vader, she can be reasona...\n",
       "779          TARKIN  You're sure the homing beacon is secure aboard...\n",
       "867   ASTRO-OFFICER  We count thirty Rebel ships, Lord Vader.  But ..."
      ]
     },
     "execution_count": 7,
     "metadata": {},
     "output_type": "execute_result"
    }
   ],
   "source": [
    "#This code is used to isolate sentences that contain individual words\n",
    "\n",
    "test = new_script[new_script['dialogue'].str.contains(r'Vader')]\n",
    "test2 = test['dialogue'].count()\n",
    "test"
   ]
  },
  {
   "cell_type": "code",
   "execution_count": 8,
   "metadata": {},
   "outputs": [],
   "source": [
    "#for x in new_script.itertuples():\n",
    "    #if x[2].find('Vader') != -1:\n",
    "        #print(x)\n",
    "    "
   ]
  },
  {
   "cell_type": "code",
   "execution_count": 9,
   "metadata": {},
   "outputs": [],
   "source": [
    "#This graph demonstrates the frequency of character lines from Episode 4\n",
    "character_lines_count = new_script['character'].value_counts()\n",
    "actor_line_count = pd.DataFrame(character_lines_count)\n"
   ]
  },
  {
   "cell_type": "code",
   "execution_count": 10,
   "metadata": {},
   "outputs": [],
   "source": [
    "#This is the breakdown  of character  lines from Episode 5 and 6\n",
    "character_line_count_5 = new_script_episode5['character'].value_counts()\n",
    "#print(actor_line_count_episode_5)\n",
    "actor_line_count_5 = pd.DataFrame(character_lines_count)\n",
    "character_line_count_6= new_script_episode6['character'].value_counts()\n",
    "#print(charact)\n",
    "actor_line_count_6 = pd.DataFrame(character_line_count_6)"
   ]
  },
  {
   "cell_type": "code",
   "execution_count": 16,
   "metadata": {},
   "outputs": [
    {
     "data": {
      "image/png": "[encoded data removed]",
      "text/plain": [
       "<Figure size 432x288 with 1 Axes>"
      ]
     },
     "metadata": {
      "needs_background": "light"
     },
     "output_type": "display_data"
    }
   ],
   "source": [
    "#This graph shows the comaprison of those same specfic characters and their line frequencey in future movies \n",
    "#count_vader_4_df.plot(x=\"character\", y=[count_vader_5_df, count_vader_6_df], kind=\"bar\")\n",
    "\n",
    "\n",
    "ax = final_merge.plot( kind='bar')\n",
    "#count_vader_5_df.plot(ax=ax,kind = 'bar', stacked = True)\n",
    "#new_script_episode6.plot(ax=ax, x='character', y=actor_line_count_episode_6, kind= 'bar')\n",
    "\n",
    "plt.show()"
   ]
  },
  {
   "cell_type": "code",
   "execution_count": 12,
   "metadata": {},
   "outputs": [],
   "source": [
    "#Conclusion "
   ]
  }
 ],
 "metadata": {
  "kernelspec": {
   "display_name": "Python 3",
   "language": "python",
   "name": "python3"
  },
  "language_info": {
   "codemirror_mode": {
    "name": "ipython",
    "version": 3
   },
   "file_extension": ".py",
   "mimetype": "text/x-python",
   "name": "python",
   "nbconvert_exporter": "python",
   "pygments_lexer": "ipython3",
   "version": "3.6.10"
  }
 },
 "nbformat": 4,
 "nbformat_minor": 4
}
